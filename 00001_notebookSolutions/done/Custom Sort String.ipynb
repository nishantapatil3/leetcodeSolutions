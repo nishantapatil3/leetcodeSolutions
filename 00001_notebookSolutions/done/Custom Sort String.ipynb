{
 "cells": [
  {
   "cell_type": "code",
   "execution_count": 47,
   "metadata": {},
   "outputs": [],
   "source": [
    "from typing import List\n",
    "\n",
    "class Solution:\n",
    "    def customSortString(self, order: str, str: str) -> str:\n",
    "        m = {c:i for i,c in enumerate(order)}\n",
    "        print (m)\n",
    "        \n",
    "        new = []\n",
    "        for i in range(len(str)):\n",
    "            new.append([str[i], m[str[i]] if str[i] in m else 200 + ord(str[i])])\n",
    "        \n",
    "        print (new)\n",
    "        \n",
    "        new.sort(key=lambda x:x[1])\n",
    "        print (new)\n",
    "        \n",
    "        word = \"\"\n",
    "        for i,j in new:\n",
    "            word += i\n",
    "        \n",
    "        return word\n",
    "\n",
    "class Solution2:\n",
    "    def customSortString(self, S: str, T: str) -> str:\n",
    "        l = []\n",
    "        for i in S:\n",
    "            l.append(i*T.count(i))\n",
    "        print (l)\n",
    "        for i in T:\n",
    "            if i not in S:\n",
    "                l.append(i)\n",
    "        print (l)\n",
    "        return \"\".join(l)"
   ]
  },
  {
   "cell_type": "code",
   "execution_count": 48,
   "metadata": {},
   "outputs": [
    {
     "name": "stdout",
     "output_type": "stream",
     "text": [
      "{'c': 0, 'b': 1, 'a': 2}\n",
      "[['q', 313], ['w', 319], ['e', 301], ['r', 314], ['t', 316], ['y', 321], ['u', 317], ['i', 305], ['a', 2], ['b', 1], ['c', 0], ['d', 300], ['c', 0], ['b', 1], ['a', 2], ['c', 0], ['b', 1], ['a', 2], ['c', 0], ['b', 1]]\n",
      "[['c', 0], ['c', 0], ['c', 0], ['c', 0], ['b', 1], ['b', 1], ['b', 1], ['b', 1], ['a', 2], ['a', 2], ['a', 2], ['d', 300], ['e', 301], ['i', 305], ['q', 313], ['r', 314], ['t', 316], ['u', 317], ['w', 319], ['y', 321]]\n",
      "ccccbbbbaaadeiqrtuwy\n",
      "========\n",
      "ccccbbbbaaaqwertyuid\n"
     ]
    }
   ],
   "source": [
    "o = \"cba\"\n",
    "s = \"qwertyuiabcdcbacbacb\"\n",
    "\n",
    "a = Solution()\n",
    "print (a.customSortString(o, s))\n",
    "\n",
    "print (\"========\")\n",
    "a = Solution2()\n",
    "print (a.customSortString(o, s))"
   ]
  },
  {
   "cell_type": "code",
   "execution_count": null,
   "metadata": {},
   "outputs": [],
   "source": []
  }
 ],
 "metadata": {
  "kernelspec": {
   "display_name": "Python 3",
   "language": "python",
   "name": "python3"
  },
  "language_info": {
   "codemirror_mode": {
    "name": "ipython",
    "version": 3
   },
   "file_extension": ".py",
   "mimetype": "text/x-python",
   "name": "python",
   "nbconvert_exporter": "python",
   "pygments_lexer": "ipython3",
   "version": "3.8.8"
  }
 },
 "nbformat": 4,
 "nbformat_minor": 4
}
