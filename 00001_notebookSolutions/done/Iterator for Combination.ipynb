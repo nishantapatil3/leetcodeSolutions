{
 "cells": [
  {
   "cell_type": "code",
   "execution_count": 68,
   "metadata": {},
   "outputs": [],
   "source": [
    "from typing import List\n",
    "from itertools import combinations\n",
    "\n",
    "class Node:\n",
    "    def __init__(self, val=None):\n",
    "        self.val = val\n",
    "        self.next = None\n",
    "\n",
    "class CombinationIterator:\n",
    "\n",
    "    def __init__(self, characters: str, combinationLength: int):\n",
    "        comb = combinations(list(characters), combinationLength)\n",
    "        curr = head = Node(\"start\")\n",
    "        for item_tup in comb:\n",
    "            item = \"\".join(item_tup)\n",
    "            print (item)\n",
    "            node = Node(item)\n",
    "            curr.next = node\n",
    "            curr = curr.next\n",
    "        \n",
    "        print (\"========\")\n",
    "        ittr = head.next\n",
    "        while ittr:\n",
    "            print (ittr.val)\n",
    "            ittr = ittr.next\n",
    "\n",
    "    def next(self) -> str:\n",
    "        back = head.next\n",
    "        head = head.next\n",
    "        return (back)\n",
    "\n",
    "    def hasNext(self) -> bool:\n",
    "        if head.next:\n",
    "            return True\n",
    "        else:\n",
    "            False"
   ]
  },
  {
   "cell_type": "code",
   "execution_count": 69,
   "metadata": {},
   "outputs": [
    {
     "name": "stdout",
     "output_type": "stream",
     "text": [
      "ab\n",
      "ac\n",
      "bc\n",
      "========\n",
      "ab\n",
      "ac\n",
      "bc\n"
     ]
    }
   ],
   "source": [
    "arr = \"abc\"\n",
    "\n",
    "a = CombinationIterator(\"abc\", 2)\n",
    "# print (a.singleNumber(arr))"
   ]
  },
  {
   "cell_type": "code",
   "execution_count": null,
   "metadata": {},
   "outputs": [],
   "source": []
  }
 ],
 "metadata": {
  "kernelspec": {
   "display_name": "Python 3",
   "language": "python",
   "name": "python3"
  },
  "language_info": {
   "codemirror_mode": {
    "name": "ipython",
    "version": 3
   },
   "file_extension": ".py",
   "mimetype": "text/x-python",
   "name": "python",
   "nbconvert_exporter": "python",
   "pygments_lexer": "ipython3",
   "version": "3.7.4"
  }
 },
 "nbformat": 4,
 "nbformat_minor": 4
}
