{
 "cells": [
  {
   "cell_type": "code",
   "execution_count": 95,
   "metadata": {},
   "outputs": [],
   "source": [
    "from typing import List\n",
    "import collections\n",
    "\n",
    "class Solution:\n",
    "    def totalFruit(self, fruits: List[int]) -> int:\n",
    "        l = 0\n",
    "        nums = collections.Counter()\n",
    "        res = 0\n",
    "        \n",
    "        for i in range(len(fruits)):\n",
    "            nums[fruits[i]] += 1\n",
    "            print (nums)\n",
    "            while len(nums) > 2:\n",
    "                print (l, fruits[l])\n",
    "                nums[fruits[l]] -= 1 \n",
    "                if not nums[fruits[l]]:\n",
    "                    nums.pop(fruits[l])\n",
    "                l += 1\n",
    "            res = max(res, i - l + 1)\n",
    "        \n",
    "        return (res)"
   ]
  },
  {
   "cell_type": "code",
   "execution_count": 96,
   "metadata": {},
   "outputs": [
    {
     "name": "stdout",
     "output_type": "stream",
     "text": [
      "Counter({3: 1})\n",
      "Counter({3: 2})\n",
      "Counter({3: 3})\n",
      "Counter({3: 3, 1: 1})\n",
      "Counter({3: 3, 1: 1, 2: 1})\n",
      "0 3\n",
      "1 3\n",
      "2 3\n",
      "Counter({1: 2, 2: 1})\n",
      "Counter({1: 3, 2: 1})\n",
      "Counter({1: 3, 2: 2})\n",
      "Counter({1: 3, 2: 2, 3: 1})\n",
      "3 1\n",
      "4 2\n",
      "5 1\n",
      "6 1\n",
      "Counter({3: 2, 2: 1})\n",
      "Counter({3: 2, 2: 1, 4: 1})\n",
      "7 2\n",
      "5\n"
     ]
    }
   ],
   "source": [
    "a = Solution()\n",
    "\n",
    "# fruits = [1,2,1]\n",
    "# print (a.totalFruit(fruits))\n",
    "\n",
    "# fruits = [0,1,2,2]\n",
    "# print (a.totalFruit(fruits))\n",
    "\n",
    "# fruits = [1,2,3,2,2]\n",
    "# print (a.totalFruit(fruits))\n",
    "\n",
    "fruits = [3,3,3,1,2,1,1,2,3,3,4]\n",
    "print (a.totalFruit(fruits))"
   ]
  },
  {
   "cell_type": "code",
   "execution_count": null,
   "metadata": {},
   "outputs": [],
   "source": []
  }
 ],
 "metadata": {
  "kernelspec": {
   "display_name": "Python 3",
   "language": "python",
   "name": "python3"
  },
  "language_info": {
   "codemirror_mode": {
    "name": "ipython",
    "version": 3
   },
   "file_extension": ".py",
   "mimetype": "text/x-python",
   "name": "python",
   "nbconvert_exporter": "python",
   "pygments_lexer": "ipython3",
   "version": "3.8.8"
  }
 },
 "nbformat": 4,
 "nbformat_minor": 4
}
