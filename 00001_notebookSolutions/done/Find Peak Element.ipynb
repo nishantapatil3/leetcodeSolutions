{
 "cells": [
  {
   "cell_type": "code",
   "execution_count": 46,
   "metadata": {},
   "outputs": [],
   "source": [
    "from typing import List\n",
    "\n",
    "class Solution:\n",
    "    def findPeakElement(self, nums: List[int]) -> int:\n",
    "        peak = 0\n",
    "        for i in range(len(nums)-1):\n",
    "            if nums[i] > nums[i+1]:\n",
    "                return i\n",
    "            else:\n",
    "                peak = i + 1\n",
    "        return peak\n",
    "\n",
    "class Solution2:\n",
    "    def findPeakElement(self, nums: List[int]) -> int:\n",
    "        left = 0\n",
    "        right = len(nums)-1\n",
    "        \n",
    "        if len(nums) == 0:\n",
    "            return 0\n",
    "        \n",
    "        while left < right:\n",
    "            mid = (left + right)//2\n",
    "            if nums[mid] > nums[mid-1] and nums[mid] > nums[mid+1]:\n",
    "                return mid\n",
    "            \n",
    "            if nums[mid] < nums[mid+1]:\n",
    "                left = mid + 1\n",
    "            else:\n",
    "                right = mid - 1\n",
    "            \n",
    "        return left"
   ]
  },
  {
   "cell_type": "code",
   "execution_count": 47,
   "metadata": {},
   "outputs": [
    {
     "name": "stdout",
     "output_type": "stream",
     "text": [
      "0\n",
      "0\n"
     ]
    }
   ],
   "source": [
    "arr = [1,2,1,3,5,6,4]\n",
    "arr = [1,2,3,1]\n",
    "arr = [1,2]\n",
    "arr = [1]\n",
    "\n",
    "a = Solution()\n",
    "print (a.findPeakElement(arr))\n",
    "\n",
    "a = Solution2()\n",
    "print (a.findPeakElement(arr))"
   ]
  },
  {
   "cell_type": "code",
   "execution_count": null,
   "metadata": {},
   "outputs": [],
   "source": []
  }
 ],
 "metadata": {
  "kernelspec": {
   "display_name": "Python 3",
   "language": "python",
   "name": "python3"
  },
  "language_info": {
   "codemirror_mode": {
    "name": "ipython",
    "version": 3
   },
   "file_extension": ".py",
   "mimetype": "text/x-python",
   "name": "python",
   "nbconvert_exporter": "python",
   "pygments_lexer": "ipython3",
   "version": "3.8.8"
  }
 },
 "nbformat": 4,
 "nbformat_minor": 4
}
