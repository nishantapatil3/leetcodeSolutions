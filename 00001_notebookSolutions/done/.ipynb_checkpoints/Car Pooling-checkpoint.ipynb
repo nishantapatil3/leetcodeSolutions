{
 "cells": [
  {
   "cell_type": "code",
   "execution_count": 17,
   "metadata": {},
   "outputs": [],
   "source": [
    "from typing import List\n",
    "\n",
    "class Solution:\n",
    "    def carPooling(self, trips: List[List[int]], capacity: int) -> bool:\n",
    "        total = {}\n",
    "        \n",
    "        for data in trips:\n",
    "            for i in range(data[1], data[2]):\n",
    "                if i in total:\n",
    "                    total[i] += data[0]\n",
    "                    if total[i] > capacity:\n",
    "                        return False\n",
    "                else:\n",
    "                    total[i] = data[0]\n",
    "                    if total[i] > capacity:\n",
    "                        return False\n",
    "        \n",
    "        return (total)\n",
    "\n",
    "class Solution2:\n",
    "    def carPooling(self, trips: List[List[int]], capacity: int) -> bool:\n",
    "        timestamp = [0] * 1001\n",
    "        \n",
    "        for p, start, end in trips:\n",
    "            timestamp[start] += p\n",
    "            timestamp[end] -= p\n",
    "        \n",
    "        used = 0\n",
    "        for current_p in timestamp:\n",
    "            used += current_p\n",
    "            if used > capacity:\n",
    "                return False\n",
    "        return True"
   ]
  },
  {
   "cell_type": "code",
   "execution_count": 18,
   "metadata": {},
   "outputs": [
    {
     "name": "stdout",
     "output_type": "stream",
     "text": [
      "True\n"
     ]
    }
   ],
   "source": [
    "trips = [[3,2,7],[3,7,9],[8,3,9]]\n",
    "capacity = 11\n",
    "\n",
    "a = Solution2()\n",
    "print (a.carPooling(trips, capacity))"
   ]
  },
  {
   "cell_type": "code",
   "execution_count": null,
   "metadata": {},
   "outputs": [],
   "source": []
  }
 ],
 "metadata": {
  "kernelspec": {
   "display_name": "Python 3",
   "language": "python",
   "name": "python3"
  },
  "language_info": {
   "codemirror_mode": {
    "name": "ipython",
    "version": 3
   },
   "file_extension": ".py",
   "mimetype": "text/x-python",
   "name": "python",
   "nbconvert_exporter": "python",
   "pygments_lexer": "ipython3",
   "version": "3.7.4"
  }
 },
 "nbformat": 4,
 "nbformat_minor": 4
}
