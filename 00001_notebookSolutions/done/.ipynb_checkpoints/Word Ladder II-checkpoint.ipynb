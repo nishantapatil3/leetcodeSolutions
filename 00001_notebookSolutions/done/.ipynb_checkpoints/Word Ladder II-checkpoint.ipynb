{
 "cells": [
  {
   "cell_type": "code",
   "execution_count": 24,
   "metadata": {},
   "outputs": [],
   "source": [
    "from typing import List\n",
    "import collections\n",
    "\n",
    "class Solution:\n",
    "    def findLadders(self, beginWord: str, endWord: str, wordList: List[str]) -> List[List[str]]:\n",
    "        wordList = set(wordList)\n",
    "        res = []\n",
    "        layer = {}\n",
    "        layer[beginWord] = [[beginWord]]\n",
    "        \n",
    "        print (layer)\n",
    "        while layer:\n",
    "            newlayer = collections.defaultdict(list)\n",
    "            \n",
    "            for w in layer:\n",
    "                if w == endWord:\n",
    "                    res.extend(w2 for w2 in layer[w])\n",
    "                else:\n",
    "                    for i in range(len(w)):s\n",
    "                        for c in \"abcdefghijklmnopqrstuvwxyz\":\n",
    "                            new = w[:i]+c+w[i+1:]\n",
    "                            if new in wordList:\n",
    "                                newlayer[new] += [w1+[new] for w1 in layer[w]]\n",
    "            \n",
    "            wordList -= set(newlayer.keys())\n",
    "            layer = newlayer\n",
    "        \n",
    "        return res"
   ]
  },
  {
   "cell_type": "code",
   "execution_count": 25,
   "metadata": {},
   "outputs": [
    {
     "name": "stdout",
     "output_type": "stream",
     "text": [
      "{'hit': [['hit']]}\n",
      "[['hit', 'hot', 'dot', 'dog', 'cog'], ['hit', 'hot', 'lot', 'log', 'cog']]\n"
     ]
    }
   ],
   "source": [
    "beginWord = \"hit\"\n",
    "endWord = \"cog\"\n",
    "wordList = [\"hot\",\"dot\",\"dog\",\"lot\",\"log\",\"cog\"]\n",
    "\n",
    "a = Solution()\n",
    "print (a.findLadders(beginWord, endWord, wordList))"
   ]
  },
  {
   "cell_type": "code",
   "execution_count": null,
   "metadata": {},
   "outputs": [],
   "source": []
  }
 ],
 "metadata": {
  "kernelspec": {
   "display_name": "Python 3",
   "language": "python",
   "name": "python3"
  },
  "language_info": {
   "codemirror_mode": {
    "name": "ipython",
    "version": 3
   },
   "file_extension": ".py",
   "mimetype": "text/x-python",
   "name": "python",
   "nbconvert_exporter": "python",
   "pygments_lexer": "ipython3",
   "version": "3.8.8"
  }
 },
 "nbformat": 4,
 "nbformat_minor": 4
}
