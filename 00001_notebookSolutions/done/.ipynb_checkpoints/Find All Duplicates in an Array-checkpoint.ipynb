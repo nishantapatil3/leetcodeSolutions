{
 "cells": [
  {
   "cell_type": "code",
   "execution_count": 5,
   "metadata": {},
   "outputs": [],
   "source": [
    "from typing import List\n",
    "\n",
    "class Solution:\n",
    "    def findDuplicates(self, nums: List[int]) -> List[int]:\n",
    "        nmap = {}\n",
    "        for num in nums:\n",
    "            if num not in nmap:\n",
    "                nmap[num] = 1\n",
    "            else:\n",
    "                nmap[num] += 1\n",
    "\n",
    "        ans = []\n",
    "        for k, v in nmap.items():\n",
    "            if v >= 2:\n",
    "                ans.append(k)\n",
    "        \n",
    "        return ans\n",
    "\n",
    "class Solution2:\n",
    "    def findDuplicates(self, nums: List[int]) -> List[int]:\n",
    "        ans = []\n",
    "        \n",
    "        for num in nums:\n",
    "            if nums[abs(num)-1] < 0:\n",
    "                ans.append(abs(num))\n",
    "            else:\n",
    "                nums[abs(num)-1] *= -1\n",
    "        \n",
    "        return ans"
   ]
  },
  {
   "cell_type": "code",
   "execution_count": 6,
   "metadata": {},
   "outputs": [
    {
     "name": "stdout",
     "output_type": "stream",
     "text": [
      "[2, 3]\n"
     ]
    }
   ],
   "source": [
    "arr = [4,3,2,7,8,2,3,1]\n",
    "\n",
    "a = Solution2()\n",
    "print (a.findDuplicates(arr))"
   ]
  },
  {
   "cell_type": "code",
   "execution_count": null,
   "metadata": {},
   "outputs": [],
   "source": []
  }
 ],
 "metadata": {
  "kernelspec": {
   "display_name": "Python 3",
   "language": "python",
   "name": "python3"
  },
  "language_info": {
   "codemirror_mode": {
    "name": "ipython",
    "version": 3
   },
   "file_extension": ".py",
   "mimetype": "text/x-python",
   "name": "python",
   "nbconvert_exporter": "python",
   "pygments_lexer": "ipython3",
   "version": "3.7.4"
  }
 },
 "nbformat": 4,
 "nbformat_minor": 4
}
