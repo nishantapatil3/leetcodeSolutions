{
 "cells": [
  {
   "cell_type": "code",
   "execution_count": 41,
   "metadata": {},
   "outputs": [],
   "source": [
    "from typing import List\n",
    "\n",
    "class Solution:\n",
    "    def rotate(self, matrix: List[List[int]]) -> None:\n",
    "        N = len(matrix)\n",
    "        \n",
    "        for i in range(N):\n",
    "            for j in range(i, N):\n",
    "                temp = matrix[i][j]\n",
    "                matrix[i][j] = matrix[j][i]\n",
    "                matrix[j][i] = temp\n",
    "        for row in matrix:\n",
    "            print (row)\n",
    "        \n",
    "        for i in range(N):\n",
    "            for j in range(N//2):\n",
    "                temp = matrix[i][N-1-j]\n",
    "                matrix[i][j] = matrix[i][N-1-j]\n",
    "                matrix[i][N-1-j] = temp\n",
    "        for row in matrix:\n",
    "            print (row)\n",
    "\n",
    "class Solution2:\n",
    "    def rotate(self, matrix: List[List[int]]) -> None:\n",
    "        \"\"\"\n",
    "        Do not return anything, modify matrix in-place instead.\n",
    "        \"\"\"\n",
    "        N = len(matrix)\n",
    "        \n",
    "        # 1. Get transpose of  given matrix\n",
    "        for i in range(N):\n",
    "            for j in range(i, N):\n",
    "                matrix[i][j],matrix[j][i] = matrix[j][i],matrix[i][j]\n",
    "        \n",
    "        # 2.  Flip matrix horizoontally\n",
    "        for i in range(N):\n",
    "            matrix[i].reverse()"
   ]
  },
  {
   "cell_type": "code",
   "execution_count": 42,
   "metadata": {},
   "outputs": [
    {
     "name": "stdout",
     "output_type": "stream",
     "text": [
      "[1, 4, 7]\n",
      "[2, 5, 8]\n",
      "[3, 6, 9]\n",
      "[7, 4, 7]\n",
      "[8, 5, 8]\n",
      "[9, 6, 9]\n",
      "None\n"
     ]
    }
   ],
   "source": [
    "arr = [[1,2,3],[4,5,6],[7,8,9]]\n",
    "\n",
    "a = Solution()\n",
    "print (a.rotate(arr))"
   ]
  },
  {
   "cell_type": "code",
   "execution_count": null,
   "metadata": {},
   "outputs": [],
   "source": []
  }
 ],
 "metadata": {
  "kernelspec": {
   "display_name": "Python 3",
   "language": "python",
   "name": "python3"
  },
  "language_info": {
   "codemirror_mode": {
    "name": "ipython",
    "version": 3
   },
   "file_extension": ".py",
   "mimetype": "text/x-python",
   "name": "python",
   "nbconvert_exporter": "python",
   "pygments_lexer": "ipython3",
   "version": "3.7.4"
  }
 },
 "nbformat": 4,
 "nbformat_minor": 4
}
