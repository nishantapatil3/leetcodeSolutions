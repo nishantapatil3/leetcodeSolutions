{
 "cells": [
  {
   "cell_type": "code",
   "execution_count": 12,
   "metadata": {},
   "outputs": [],
   "source": [
    "from typing import List\n",
    "\n",
    "class Solution:\n",
    "    def nextGreaterElement(self, n: int) -> int:\n",
    "        digits = list(str(n))\n",
    "        i = len(digits) - 1\n",
    "        \n",
    "        while i-1 >= 0 and digits[i] <= digits[i-1]:\n",
    "            i -= 1\n",
    "        \n",
    "        if i == 0: return -1\n",
    "        \n",
    "        j = i\n",
    "        while j+1 < len(digits) and digits[j+1] > digits[i-1]:\n",
    "            j += 1\n",
    "            \n",
    "        digits[i-1], digits[j] = digits[j], digits[i-1]\n",
    "        digits[i:] = digits[i:][::-1]\n",
    "        res = int(\"\".join(digits))\n",
    "        \n",
    "        return res if res < 1<<31 else -1"
   ]
  },
  {
   "cell_type": "code",
   "execution_count": 13,
   "metadata": {},
   "outputs": [
    {
     "name": "stdout",
     "output_type": "stream",
     "text": [
      "-1\n"
     ]
    }
   ],
   "source": [
    "arr = 21\n",
    "\n",
    "a = Solution()\n",
    "print (a.nextGreaterElement(arr))"
   ]
  },
  {
   "cell_type": "code",
   "execution_count": null,
   "metadata": {},
   "outputs": [],
   "source": []
  }
 ],
 "metadata": {
  "kernelspec": {
   "display_name": "Python 3",
   "language": "python",
   "name": "python3"
  },
  "language_info": {
   "codemirror_mode": {
    "name": "ipython",
    "version": 3
   },
   "file_extension": ".py",
   "mimetype": "text/x-python",
   "name": "python",
   "nbconvert_exporter": "python",
   "pygments_lexer": "ipython3",
   "version": "3.7.4"
  }
 },
 "nbformat": 4,
 "nbformat_minor": 4
}
