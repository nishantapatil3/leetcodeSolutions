{
 "cells": [
  {
   "cell_type": "code",
   "execution_count": 28,
   "metadata": {},
   "outputs": [],
   "source": [
    "from typing import List\n",
    "\n",
    "class Solution:\n",
    "    def longestPalindrome(self, s: str) -> int:\n",
    "        mmp = {}\n",
    "        for c in s:\n",
    "            if c not in mmp:\n",
    "                mmp[c] = 1\n",
    "            else:\n",
    "                mmp[c] += 1\n",
    "        \n",
    "        evens = 0\n",
    "        flag = 0\n",
    "        for k,v in mmp.items():\n",
    "            if v %2 == 0:\n",
    "                evens += v\n",
    "            else:\n",
    "                evens += v-1\n",
    "                flag = 1\n",
    "\n",
    "        return (evens+flag)"
   ]
  },
  {
   "cell_type": "code",
   "execution_count": 29,
   "metadata": {},
   "outputs": [
    {
     "name": "stdout",
     "output_type": "stream",
     "text": [
      "9\n"
     ]
    }
   ],
   "source": [
    "arr = \"abbaababcd\"\n",
    "\n",
    "a = Solution()\n",
    "print (a.longestPalindrome(arr))"
   ]
  },
  {
   "cell_type": "code",
   "execution_count": null,
   "metadata": {},
   "outputs": [],
   "source": []
  }
 ],
 "metadata": {
  "kernelspec": {
   "display_name": "Python 3",
   "language": "python",
   "name": "python3"
  },
  "language_info": {
   "codemirror_mode": {
    "name": "ipython",
    "version": 3
   },
   "file_extension": ".py",
   "mimetype": "text/x-python",
   "name": "python",
   "nbconvert_exporter": "python",
   "pygments_lexer": "ipython3",
   "version": "3.7.4"
  }
 },
 "nbformat": 4,
 "nbformat_minor": 4
}
