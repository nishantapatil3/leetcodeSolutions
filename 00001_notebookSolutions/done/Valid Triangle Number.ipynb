{
 "cells": [
  {
   "cell_type": "code",
   "execution_count": 27,
   "metadata": {},
   "outputs": [],
   "source": [
    "from typing import List\n",
    "\n",
    "class Solution:\n",
    "    def fourSum(self, nums: List[int], target: int) -> List[List[int]]:\n",
    "        d = {}\n",
    "        for i in range(len(nums)):\n",
    "            for j in range(1, len(nums)):\n",
    "                sum2 = nums[i] + nums[j]\n",
    "                if sum2 in d:\n",
    "                    d[sum2].append((i, j))\n",
    "                else:\n",
    "                    d[sum2] = [(i, j)]\n",
    "        \n",
    "        print (d)\n",
    "        \n",
    "        result = set()\n",
    "        for key in d:\n",
    "            value = target - key\n",
    "            print (key, value)\n",
    "            list1 = d[key]\n",
    "            list2 = d[value]\n",
    "            for i,j in list1:\n",
    "                for k,l in list2:\n",
    "                    if i != k and i != l and j != k and j != l:\n",
    "                        flist = [nums[i], nums[j], nums[k], nums[l]]\n",
    "                        flist.sort()\n",
    "                        result.add(tuple(flist))\n",
    "        \n",
    "        \n",
    "        return result"
   ]
  },
  {
   "cell_type": "code",
   "execution_count": 28,
   "metadata": {},
   "outputs": [
    {
     "name": "stdout",
     "output_type": "stream",
     "text": [
      "{1: [(0, 1), (0, 3), (2, 5), (5, 2)], 0: [(0, 2), (1, 1), (1, 3), (3, 1), (3, 3), (4, 5), (5, 4)], -1: [(0, 4), (1, 2), (2, 1), (2, 3), (3, 2)], 3: [(0, 5)], -2: [(1, 4), (2, 2), (3, 4), (4, 1), (4, 3)], 2: [(1, 5), (3, 5), (5, 1), (5, 3)], -3: [(2, 4), (4, 2)], -4: [(4, 4)], 4: [(5, 5)]}\n",
      "1 -1\n",
      "0 0\n",
      "-1 1\n",
      "3 -3\n",
      "-2 2\n",
      "2 -2\n",
      "-3 3\n",
      "-4 4\n",
      "4 -4\n",
      "{(-2, 0, 0, 2), (-2, -1, 1, 2), (-2, -2, 2, 2), (0, 0, 0, 0), (-1, 0, 0, 1), (-1, -1, 0, 2)}\n"
     ]
    }
   ],
   "source": [
    "nums = [1,0,-1,0,-2,2]\n",
    "target = 0\n",
    "\n",
    "a = Solution()\n",
    "print (a.fourSum(nums, target))"
   ]
  },
  {
   "cell_type": "code",
   "execution_count": null,
   "metadata": {},
   "outputs": [],
   "source": []
  }
 ],
 "metadata": {
  "kernelspec": {
   "display_name": "Python 3",
   "language": "python",
   "name": "python3"
  },
  "language_info": {
   "codemirror_mode": {
    "name": "ipython",
    "version": 3
   },
   "file_extension": ".py",
   "mimetype": "text/x-python",
   "name": "python",
   "nbconvert_exporter": "python",
   "pygments_lexer": "ipython3",
   "version": "3.8.8"
  }
 },
 "nbformat": 4,
 "nbformat_minor": 4
}
