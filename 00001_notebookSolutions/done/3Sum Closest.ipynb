{
 "cells": [
  {
   "cell_type": "code",
   "execution_count": 106,
   "metadata": {},
   "outputs": [],
   "source": [
    "from typing import List\n",
    "import collections\n",
    "\n",
    "class Solution:\n",
    "    def threeSumClosest(self, nums: List[int], target: int) -> int:\n",
    "        nums.sort()\n",
    "        ans = nums[0] + nums[1] + nums[2]\n",
    "        \n",
    "        for i in range(len(nums)-2):\n",
    "            l, r = i+1, len(nums)-1\n",
    "            \n",
    "            while l<r:\n",
    "                s = nums[i] + nums[l] + nums[r]\n",
    "                \n",
    "                if s == target:\n",
    "                    return s\n",
    "                \n",
    "                if abs(s - target) < abs(ans - target):\n",
    "                    ans = s\n",
    "                \n",
    "                if s < target:\n",
    "                    l += 1\n",
    "                elif s > target:\n",
    "                    r -= 1\n",
    "        \n",
    "        return ans"
   ]
  },
  {
   "cell_type": "code",
   "execution_count": 107,
   "metadata": {},
   "outputs": [
    {
     "name": "stdout",
     "output_type": "stream",
     "text": [
      "0\n"
     ]
    }
   ],
   "source": [
    "nums = [-1,2,1,-4,-1,1]\n",
    "target = 1\n",
    "\n",
    "a = Solution()\n",
    "print (a.threeSumClosest(nums, target))"
   ]
  },
  {
   "cell_type": "code",
   "execution_count": null,
   "metadata": {},
   "outputs": [],
   "source": []
  }
 ],
 "metadata": {
  "kernelspec": {
   "display_name": "Python 3",
   "language": "python",
   "name": "python3"
  },
  "language_info": {
   "codemirror_mode": {
    "name": "ipython",
    "version": 3
   },
   "file_extension": ".py",
   "mimetype": "text/x-python",
   "name": "python",
   "nbconvert_exporter": "python",
   "pygments_lexer": "ipython3",
   "version": "3.8.8"
  }
 },
 "nbformat": 4,
 "nbformat_minor": 4
}
