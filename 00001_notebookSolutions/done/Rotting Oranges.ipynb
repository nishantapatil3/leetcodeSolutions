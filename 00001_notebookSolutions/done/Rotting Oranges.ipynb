{
 "cells": [
  {
   "cell_type": "code",
   "execution_count": 133,
   "metadata": {},
   "outputs": [],
   "source": [
    "from typing import List\n",
    "\n",
    "class Solution:\n",
    "    def orangesRotting(self, grid: List[List[int]]) -> int:\n",
    "        # step 1 : get rotten location\n",
    "        # =================================\n",
    "        rotten = []\n",
    "        R = len(grid)\n",
    "        C = len(grid[0])\n",
    "        for i in range(R):\n",
    "            for j in range(C):\n",
    "                if grid[i][j] == 2:\n",
    "                    rotten.append((i,j))\n",
    "        \n",
    "        print (rotten)\n",
    "        # =================================\n",
    "        \n",
    "        # step 2: logic for flood fill\n",
    "        # =================================\n",
    "        def add_neighbours(rotten):\n",
    "            neighbour = []\n",
    "            for i,j in rotten:\n",
    "                if i > 0 and grid[i-1][j] == 1:\n",
    "                    neighbour.append((i-1,j))\n",
    "                    grid[i-1][j] = 2\n",
    "                if i < R-1 and grid[i+1][j] == 1:\n",
    "                    neighbour.append((i+1,j))\n",
    "                    grid[i+1][j] = 2\n",
    "                if j > 0 and grid[i][j-1] == 1:\n",
    "                    neighbour.append((i,j-1))\n",
    "                    grid[i][j-1] = 2\n",
    "                if j < C-1 and grid[i][j+1] == 1:\n",
    "                    neighbour.append((i,j+1))\n",
    "                    grid[i][j+1] = 2\n",
    "            return neighbour\n",
    "        \n",
    "        minutes = 0\n",
    "        while (1):\n",
    "            rotten = add_neighbours(rotten)\n",
    "            if len(rotten) == 0:\n",
    "                break\n",
    "            minutes += 1\n",
    "        \n",
    "        for i in range(R):\n",
    "            print (grid[i])\n",
    "        \n",
    "        # step 3: check if there are any non rotten\n",
    "        # =================================\n",
    "        for i in range(R):\n",
    "            for j in range(C):\n",
    "                if grid[i][j] == 1:\n",
    "                    return -1\n",
    "        # =================================\n",
    "        \n",
    "        return (minutes)"
   ]
  },
  {
   "cell_type": "code",
   "execution_count": 134,
   "metadata": {},
   "outputs": [
    {
     "name": "stdout",
     "output_type": "stream",
     "text": [
      "[(0, 0)]\n",
      "[2, 2, 2]\n",
      "[0, 2, 2]\n",
      "[0, 0, 2]\n",
      "4\n"
     ]
    }
   ],
   "source": [
    "arr = [[2,1,1],[0,1,1],[0,0,1]]\n",
    "\n",
    "a = Solution()\n",
    "print (a.orangesRotting(arr))"
   ]
  },
  {
   "cell_type": "code",
   "execution_count": null,
   "metadata": {},
   "outputs": [],
   "source": []
  }
 ],
 "metadata": {
  "kernelspec": {
   "display_name": "Python 3",
   "language": "python",
   "name": "python3"
  },
  "language_info": {
   "codemirror_mode": {
    "name": "ipython",
    "version": 3
   },
   "file_extension": ".py",
   "mimetype": "text/x-python",
   "name": "python",
   "nbconvert_exporter": "python",
   "pygments_lexer": "ipython3",
   "version": "3.7.4"
  }
 },
 "nbformat": 4,
 "nbformat_minor": 4
}
