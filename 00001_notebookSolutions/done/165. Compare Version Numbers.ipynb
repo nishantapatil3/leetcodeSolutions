{
 "cells": [
  {
   "cell_type": "code",
   "execution_count": 43,
   "metadata": {},
   "outputs": [],
   "source": [
    "from typing import List\n",
    "\n",
    "class Solution:\n",
    "    def compareVersion(self, version1: str, version2: str) -> int:\n",
    "        v1 = list(map(int, version1.split(\".\")))\n",
    "        v2 = list(map(int, version2.split(\".\")))\n",
    "        \n",
    "        if len(v1) < len(v2):\n",
    "            v1.extend([0] * (len(v2) - len(v1)))\n",
    "        elif len(v1) > len(v2):\n",
    "            v2.extend([0] * (len(v1) - len(v2)))\n",
    "        print (v1)\n",
    "        print (v2)\n",
    "        \n",
    "        if v1 < v2:\n",
    "            return -1\n",
    "        elif v1 > v2:\n",
    "            return 1\n",
    "        else:\n",
    "            return 0\n",
    "        \n",
    "class Solution2:\n",
    "    def compareVersion(self, version1: str, version2: str) -> int:\n",
    "        v1 = version1.split(\".\")\n",
    "        v2 = version2.split(\".\")\n",
    "        n1, n2 = len(v1), len(v2)\n",
    "        \n",
    "        for i in range(max(n1, n2)):\n",
    "            i1 = int(v1[i]) if i < n1 else 0\n",
    "            i2 = int(v2[i]) if i < n2 else 0\n",
    "            if i1 != i2:\n",
    "                return 1 if i1 > i2 else -1\n",
    "        \n",
    "        return 0"
   ]
  },
  {
   "cell_type": "code",
   "execution_count": 44,
   "metadata": {},
   "outputs": [
    {
     "name": "stdout",
     "output_type": "stream",
     "text": [
      "-1\n"
     ]
    }
   ],
   "source": [
    "version1 = \"7.5.2\"\n",
    "version2 = \"7.5.2.4\"\n",
    "\n",
    "a = Solution2()\n",
    "print (a.compareVersion(version1, version2))"
   ]
  },
  {
   "cell_type": "code",
   "execution_count": null,
   "metadata": {},
   "outputs": [],
   "source": []
  }
 ],
 "metadata": {
  "kernelspec": {
   "display_name": "Python 3",
   "language": "python",
   "name": "python3"
  },
  "language_info": {
   "codemirror_mode": {
    "name": "ipython",
    "version": 3
   },
   "file_extension": ".py",
   "mimetype": "text/x-python",
   "name": "python",
   "nbconvert_exporter": "python",
   "pygments_lexer": "ipython3",
   "version": "3.7.4"
  }
 },
 "nbformat": 4,
 "nbformat_minor": 4
}
