{
 "cells": [
  {
   "cell_type": "code",
   "execution_count": 7,
   "metadata": {},
   "outputs": [],
   "source": [
    "from typing import List\n",
    "\n",
    "class Solution:\n",
    "    def numDecodings(self, s: str) -> int:\n",
    "        mod, dp = 10**9 + 7, [1, 0, 0]\n",
    "        for c in s:\n",
    "            dp_new = [0,0,0]\n",
    "            if c == \"*\":\n",
    "                dp_new[0] = 9*dp[0] + 9*dp[1] + 6*dp[2]\n",
    "                dp_new[1] = dp[0]\n",
    "                dp_new[2] = dp[0]\n",
    "            else:\n",
    "                dp_new[0] = (c > '0')*dp[0] + dp[1] + (c <= '6')*dp[2]\n",
    "                dp_new[1] = (c == '1')*dp[0]\n",
    "                dp_new[2] = (c == '2')*dp[0]\n",
    "            dp = [i % mod for i in dp_new]\n",
    "        \n",
    "        return (dp[0])"
   ]
  },
  {
   "cell_type": "code",
   "execution_count": 8,
   "metadata": {},
   "outputs": [
    {
     "name": "stdout",
     "output_type": "stream",
     "text": [
      "3\n"
     ]
    }
   ],
   "source": [
    "arr = \"126\"\n",
    "\n",
    "a = Solution()\n",
    "print (a.numDecodings(arr))"
   ]
  },
  {
   "cell_type": "code",
   "execution_count": null,
   "metadata": {},
   "outputs": [],
   "source": []
  }
 ],
 "metadata": {
  "kernelspec": {
   "display_name": "Python 3",
   "language": "python",
   "name": "python3"
  },
  "language_info": {
   "codemirror_mode": {
    "name": "ipython",
    "version": 3
   },
   "file_extension": ".py",
   "mimetype": "text/x-python",
   "name": "python",
   "nbconvert_exporter": "python",
   "pygments_lexer": "ipython3",
   "version": "3.8.8"
  }
 },
 "nbformat": 4,
 "nbformat_minor": 4
}
