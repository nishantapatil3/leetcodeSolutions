{
 "cells": [
  {
   "cell_type": "code",
   "execution_count": 14,
   "metadata": {},
   "outputs": [],
   "source": [
    "from typing import List\n",
    "\n",
    "class Solution:\n",
    "    def searchRange(self, nums: List[int], target: int) -> List[int]:\n",
    "        # Binary  search left\n",
    "        def binarySearchLeft(nums, target):\n",
    "            left, right = 0, len(nums)-1\n",
    "            while left <= right:\n",
    "                mid = (left+right) // 2\n",
    "                if target > nums[mid]:\n",
    "                    left = mid + 1\n",
    "                else:\n",
    "                    right = mid -1\n",
    "            return left\n",
    "        \n",
    "        # Binary search right\n",
    "        def binarySearchRight(nums, target):\n",
    "            left, right = 0, len(nums)-1\n",
    "            while left <= right:\n",
    "                mid = (left+right) // 2\n",
    "                if target >= nums[mid]:\n",
    "                    left = mid + 1\n",
    "                else:\n",
    "                    right = mid - 1\n",
    "            return right\n",
    "        \n",
    "        left, right = binarySearchLeft(nums, target), binarySearchRight(nums, target)\n",
    "        return ([left, right] if left <= right else [-1,-1])"
   ]
  },
  {
   "cell_type": "code",
   "execution_count": 15,
   "metadata": {},
   "outputs": [
    {
     "name": "stdout",
     "output_type": "stream",
     "text": [
      "[3, 4]\n"
     ]
    }
   ],
   "source": [
    "nums = [5,7,7,8,8,10]\n",
    "target = 8\n",
    "\n",
    "a = Solution()\n",
    "print (a.searchRange(nums, target))"
   ]
  },
  {
   "cell_type": "code",
   "execution_count": null,
   "metadata": {},
   "outputs": [],
   "source": []
  }
 ],
 "metadata": {
  "kernelspec": {
   "display_name": "Python 3",
   "language": "python",
   "name": "python3"
  },
  "language_info": {
   "codemirror_mode": {
    "name": "ipython",
    "version": 3
   },
   "file_extension": ".py",
   "mimetype": "text/x-python",
   "name": "python",
   "nbconvert_exporter": "python",
   "pygments_lexer": "ipython3",
   "version": "3.7.4"
  }
 },
 "nbformat": 4,
 "nbformat_minor": 4
}
