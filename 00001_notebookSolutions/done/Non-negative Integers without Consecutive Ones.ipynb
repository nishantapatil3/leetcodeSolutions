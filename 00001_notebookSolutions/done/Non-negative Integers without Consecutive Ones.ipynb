{
 "cells": [
  {
   "cell_type": "code",
   "execution_count": 45,
   "metadata": {},
   "outputs": [],
   "source": [
    "from typing import List\n",
    "\n",
    "class Solution:\n",
    "    def findIntegers(self, n: int) -> int:\n",
    "        f = [1, 2]\n",
    "        for i in range(2, 30):\n",
    "            f.append(f[-1]+f[-2])\n",
    "        \n",
    "        print (f)\n",
    "        \n",
    "        ans = 0\n",
    "        last_seen = 0\n",
    "        for i in reversed(range(30)):\n",
    "            if (1 << i) & n:\n",
    "                print (i, f[i])\n",
    "                ans += f[i]\n",
    "                if last_seen:\n",
    "                    ans -= 1\n",
    "                    break\n",
    "                last_seen = 1\n",
    "            else:\n",
    "                last_seen = 0\n",
    "        \n",
    "        return ans+1"
   ]
  },
  {
   "cell_type": "code",
   "execution_count": 48,
   "metadata": {},
   "outputs": [
    {
     "name": "stdout",
     "output_type": "stream",
     "text": [
      "[1, 2, 3, 5, 8, 13, 21, 34, 55, 89, 144, 233, 377, 610, 987, 1597, 2584, 4181, 6765, 10946, 17711, 28657, 46368, 75025, 121393, 196418, 317811, 514229, 832040, 1346269]\n",
      "13 610\n",
      "10 144\n",
      "9 89\n",
      "843\n"
     ]
    }
   ],
   "source": [
    "arr = 9999\n",
    "\n",
    "a = Solution()\n",
    "print (a.findIntegers(arr))"
   ]
  },
  {
   "cell_type": "code",
   "execution_count": null,
   "metadata": {},
   "outputs": [],
   "source": []
  }
 ],
 "metadata": {
  "kernelspec": {
   "display_name": "Python 3",
   "language": "python",
   "name": "python3"
  },
  "language_info": {
   "codemirror_mode": {
    "name": "ipython",
    "version": 3
   },
   "file_extension": ".py",
   "mimetype": "text/x-python",
   "name": "python",
   "nbconvert_exporter": "python",
   "pygments_lexer": "ipython3",
   "version": "3.8.8"
  }
 },
 "nbformat": 4,
 "nbformat_minor": 4
}
