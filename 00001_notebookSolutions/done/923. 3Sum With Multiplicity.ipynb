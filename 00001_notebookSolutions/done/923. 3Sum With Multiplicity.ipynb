{
 "cells": [
  {
   "cell_type": "code",
   "execution_count": 5,
   "metadata": {},
   "outputs": [],
   "source": [
    "from typing import List\n",
    "import collections\n",
    "import itertools\n",
    "\n",
    "class Solution:\n",
    "    def threeSumMulti(self, arr: List[int], target: int) -> int:\n",
    "        hmap = collections.Counter(arr)\n",
    "        \n",
    "        res = 0\n",
    "        for i, j in itertools.combinations_with_replacement(hmap, 2):\n",
    "            k = target - i - j\n",
    "            if i == j == k:\n",
    "                res +=  hmap[i] * (hmap[i]-1) * (hmap[i]-2) / 6\n",
    "            elif i == j != k:\n",
    "                res += hmap[i] * (hmap[i]-1) / 2 * hmap[k]\n",
    "            elif k > i and k > j:\n",
    "                res += hmap[i] * hmap[j] * hmap[k]\n",
    "        \n",
    "        return res % (10**9 + 7)"
   ]
  },
  {
   "cell_type": "code",
   "execution_count": 6,
   "metadata": {},
   "outputs": [
    {
     "name": "stdout",
     "output_type": "stream",
     "text": [
      "20.0\n"
     ]
    }
   ],
   "source": [
    "arr = [1,1,2,2,3,3,4,4,5,5]\n",
    "target = 8\n",
    "\n",
    "a = Solution()\n",
    "print (a.threeSumMulti(arr, target))"
   ]
  },
  {
   "cell_type": "code",
   "execution_count": null,
   "metadata": {},
   "outputs": [],
   "source": []
  }
 ],
 "metadata": {
  "kernelspec": {
   "display_name": "Python 3",
   "language": "python",
   "name": "python3"
  },
  "language_info": {
   "codemirror_mode": {
    "name": "ipython",
    "version": 3
   },
   "file_extension": ".py",
   "mimetype": "text/x-python",
   "name": "python",
   "nbconvert_exporter": "python",
   "pygments_lexer": "ipython3",
   "version": "3.8.8"
  }
 },
 "nbformat": 4,
 "nbformat_minor": 4
}
