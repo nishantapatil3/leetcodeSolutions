{
 "cells": [
  {
   "cell_type": "code",
   "execution_count": 3,
   "metadata": {},
   "outputs": [],
   "source": [
    "from typing import List\n",
    "\n",
    "class Solution:\n",
    "    def beautifulArray(self, n: int) -> List[int]:\n",
    "        res = [1]\n",
    "        \n",
    "        while len(res)<n:\n",
    "            A1 = [i*2-1 for i in res]\n",
    "            A2 = [i*2 for i in res]\n",
    "            res = A1 + A2\n",
    "            print (res)\n",
    "        \n",
    "        return ()"
   ]
  },
  {
   "cell_type": "code",
   "execution_count": 4,
   "metadata": {},
   "outputs": [
    {
     "name": "stdout",
     "output_type": "stream",
     "text": [
      "[1, 2]\n",
      "[1, 3, 2, 4]\n",
      "[1, 5, 3, 7, 2, 6, 4, 8]\n",
      "()\n"
     ]
    }
   ],
   "source": [
    "n = 5\n",
    "\n",
    "a = Solution()\n",
    "print (a.beautifulArray(n))"
   ]
  },
  {
   "cell_type": "code",
   "execution_count": null,
   "metadata": {},
   "outputs": [],
   "source": []
  }
 ],
 "metadata": {
  "kernelspec": {
   "display_name": "Python 3",
   "language": "python",
   "name": "python3"
  },
  "language_info": {
   "codemirror_mode": {
    "name": "ipython",
    "version": 3
   },
   "file_extension": ".py",
   "mimetype": "text/x-python",
   "name": "python",
   "nbconvert_exporter": "python",
   "pygments_lexer": "ipython3",
   "version": "3.8.8"
  }
 },
 "nbformat": 4,
 "nbformat_minor": 4
}
