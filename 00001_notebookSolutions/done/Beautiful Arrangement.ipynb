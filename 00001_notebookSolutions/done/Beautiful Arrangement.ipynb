{
 "cells": [
  {
   "cell_type": "code",
   "execution_count": 16,
   "metadata": {},
   "outputs": [],
   "source": [
    "from typing import List\n",
    "\n",
    "cache = {}\n",
    "class Solution:\n",
    "    def countArrangement(self, n: int) -> int:\n",
    "        def helper(i, X):\n",
    "            if i == 1:\n",
    "                return 1\n",
    "            key = (i, X)\n",
    "            if key in cache:\n",
    "                return cache[key]\n",
    "            total = 0\n",
    "            for j in range(len(X)):\n",
    "                if X[j] % i == 0 or i % X[j] == 0:\n",
    "                    total += helper(i - 1, X[:j] + X[j+1:])\n",
    "            cache[key] = total\n",
    "            return total\n",
    "        \n",
    "        return helper(n, tuple(range(1, n+1)))"
   ]
  },
  {
   "cell_type": "code",
   "execution_count": 18,
   "metadata": {},
   "outputs": [
    {
     "name": "stdout",
     "output_type": "stream",
     "text": [
      "10\n"
     ]
    }
   ],
   "source": [
    "n = 5\n",
    "\n",
    "a = Solution()\n",
    "print (a.countArrangement(n))"
   ]
  },
  {
   "cell_type": "code",
   "execution_count": 5,
   "metadata": {},
   "outputs": [
    {
     "data": {
      "text/plain": [
       "(1, 2, 3, 4)"
      ]
     },
     "execution_count": 5,
     "metadata": {},
     "output_type": "execute_result"
    }
   ],
   "source": [
    "tuple(range(1, 4 + 1))"
   ]
  },
  {
   "cell_type": "code",
   "execution_count": null,
   "metadata": {},
   "outputs": [],
   "source": []
  }
 ],
 "metadata": {
  "kernelspec": {
   "display_name": "Python 3",
   "language": "python",
   "name": "python3"
  },
  "language_info": {
   "codemirror_mode": {
    "name": "ipython",
    "version": 3
   },
   "file_extension": ".py",
   "mimetype": "text/x-python",
   "name": "python",
   "nbconvert_exporter": "python",
   "pygments_lexer": "ipython3",
   "version": "3.7.4"
  }
 },
 "nbformat": 4,
 "nbformat_minor": 4
}
