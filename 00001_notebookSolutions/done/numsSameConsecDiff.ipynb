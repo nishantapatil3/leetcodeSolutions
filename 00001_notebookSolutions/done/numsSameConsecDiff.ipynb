{
 "cells": [
  {
   "cell_type": "code",
   "execution_count": 369,
   "metadata": {},
   "outputs": [],
   "source": [
    "from typing import List\n",
    "\n",
    "class Solution:\n",
    "    def numsSameConsecDiff(self, N: int, K: int) -> List[int]:\n",
    "        cur = [i for i in range(10)]\n",
    "        \n",
    "        for i in range(N-1):\n",
    "            cur2 = []\n",
    "            for x in cur:\n",
    "                for y in [x % 10 + K, x % 10 - K]:\n",
    "                    if x and 0 <= y < 10:\n",
    "                        cur2.append(x * 10 + y)\n",
    "            print (cur)\n",
    "            cur = cur2\n",
    "        \n",
    "        return (cur)"
   ]
  },
  {
   "cell_type": "code",
   "execution_count": 372,
   "metadata": {},
   "outputs": [
    {
     "name": "stdout",
     "output_type": "stream",
     "text": [
      "[0, 1, 2, 3, 4, 5, 6, 7, 8, 9]\n",
      "[12, 10, 23, 21, 34, 32, 45, 43, 56, 54, 67, 65, 78, 76, 89, 87, 98]\n",
      "[123, 121, 101, 234, 232, 212, 210, 345, 343, 323, 321, 456, 454, 434, 432, 567, 565, 545, 543, 678, 676, 656, 654, 789, 787, 767, 765, 898, 878, 876, 989, 987]\n"
     ]
    }
   ],
   "source": [
    "N = 3\n",
    "K = 1\n",
    "\n",
    "a = Solution()\n",
    "print (a.numsSameConsecDiff(N, K))"
   ]
  },
  {
   "cell_type": "code",
   "execution_count": null,
   "metadata": {},
   "outputs": [],
   "source": []
  }
 ],
 "metadata": {
  "kernelspec": {
   "display_name": "Python 3",
   "language": "python",
   "name": "python3"
  },
  "language_info": {
   "codemirror_mode": {
    "name": "ipython",
    "version": 3
   },
   "file_extension": ".py",
   "mimetype": "text/x-python",
   "name": "python",
   "nbconvert_exporter": "python",
   "pygments_lexer": "ipython3",
   "version": "3.7.4"
  }
 },
 "nbformat": 4,
 "nbformat_minor": 4
}
