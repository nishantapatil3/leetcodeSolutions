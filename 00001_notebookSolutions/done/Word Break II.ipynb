{
 "cells": [
  {
   "cell_type": "code",
   "execution_count": 36,
   "metadata": {},
   "outputs": [],
   "source": [
    "from typing import List\n",
    "\n",
    "class Solution:\n",
    "    def __init__(self):\n",
    "        self.res = []\n",
    "    \n",
    "    def dfs(self, s, path, ind, dp, wordDict):\n",
    "        print (ind)\n",
    "        if dp[ind+len(s)]:\n",
    "            if not s:\n",
    "                self.res.append(path.strip())\n",
    "            \n",
    "            for i in range(1, len(s)+1):\n",
    "                if s[:i] in wordDict:\n",
    "                    self.dfs(s[i:], path+\" \"+s[:i], ind+i, dp, wordDict)\n",
    "    \n",
    "    def wordBreak1(self, s, wordDict):\n",
    "        N = len(s)\n",
    "        dp = [False] * (N+1)\n",
    "        dp[0] = True\n",
    "        \n",
    "        for i in range(N):\n",
    "            for j in range(1, N+1):\n",
    "                if dp[i] and s[i:j] in wordDict:\n",
    "                    dp[j] = True\n",
    "        print (dp)\n",
    "        return dp\n",
    "    \n",
    "    def wordBreak(self, s: str, wordDict: List[str]) -> List[str]:\n",
    "        if not s:\n",
    "            return [\"\"]\n",
    "        \n",
    "        wordDict = set(wordDict)\n",
    "        dp = self.wordBreak1(s, wordDict)\n",
    "        self.dfs(s, \"\", 0, dp, wordDict)\n",
    "        \n",
    "        return (self.res)"
   ]
  },
  {
   "cell_type": "code",
   "execution_count": 37,
   "metadata": {},
   "outputs": [
    {
     "name": "stdout",
     "output_type": "stream",
     "text": [
      "[True, False, False, False, True, False, False, False, False, True, False, False, True, False, False, False, False, True]\n",
      "0\n",
      "4\n",
      "9\n",
      "12\n",
      "17\n",
      "12\n",
      "17\n",
      "9\n",
      "12\n",
      "17\n",
      "['pine apple pen apple', 'pine applepen apple', 'pineapple pen apple']\n"
     ]
    }
   ],
   "source": [
    "s = \"pineapplepenapple\"\n",
    "wordDict = [\"apple\", \"pen\", \"applepen\", \"pine\", \"pineapple\"]\n",
    "\n",
    "a = Solution()\n",
    "print (a.wordBreak(s, wordDict))"
   ]
  },
  {
   "cell_type": "code",
   "execution_count": null,
   "metadata": {},
   "outputs": [],
   "source": []
  }
 ],
 "metadata": {
  "kernelspec": {
   "display_name": "Python 3",
   "language": "python",
   "name": "python3"
  },
  "language_info": {
   "codemirror_mode": {
    "name": "ipython",
    "version": 3
   },
   "file_extension": ".py",
   "mimetype": "text/x-python",
   "name": "python",
   "nbconvert_exporter": "python",
   "pygments_lexer": "ipython3",
   "version": "3.7.4"
  }
 },
 "nbformat": 4,
 "nbformat_minor": 4
}
