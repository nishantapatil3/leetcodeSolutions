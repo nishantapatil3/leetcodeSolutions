{
 "cells": [
  {
   "cell_type": "code",
   "execution_count": 144,
   "metadata": {},
   "outputs": [],
   "source": [
    "from typing import List\n",
    "\n",
    "class Solution:\n",
    "    def titleToNumber(self, s: str) -> int:\n",
    "        mChars = {}\n",
    "        for i in range(1, 27):\n",
    "            mChars[chr(64+i)] = i\n",
    "        \n",
    "#         print (mChars)\n",
    "        \n",
    "        # ==========================\n",
    "        total = 0\n",
    "        for i in range(len(s)-1, -1, -1):\n",
    "            print (len(s)-i-1)\n",
    "            total = total + (26**(len(s)-i-1)) * mChars[s[i]]\n",
    "            \n",
    "        # ==========================\n",
    "        \n",
    "        return (total)"
   ]
  },
  {
   "cell_type": "code",
   "execution_count": 145,
   "metadata": {},
   "outputs": [
    {
     "name": "stdout",
     "output_type": "stream",
     "text": [
      "0\n",
      "1\n",
      "701\n"
     ]
    }
   ],
   "source": [
    "arr = \"ZY\"\n",
    "\n",
    "a = Solution()\n",
    "print (a.titleToNumber(arr))"
   ]
  },
  {
   "cell_type": "code",
   "execution_count": 108,
   "metadata": {},
   "outputs": [
    {
     "data": {
      "text/plain": [
       "703"
      ]
     },
     "execution_count": 108,
     "metadata": {},
     "output_type": "execute_result"
    }
   ],
   "source": [
    "26*26*1 + 26*1 + (26*0)+1"
   ]
  },
  {
   "cell_type": "code",
   "execution_count": 120,
   "metadata": {},
   "outputs": [
    {
     "data": {
      "text/plain": [
       "1406"
      ]
     },
     "execution_count": 120,
     "metadata": {},
     "output_type": "execute_result"
    }
   ],
   "source": [
    "26*26*2 + 26*2 + 2"
   ]
  },
  {
   "cell_type": "code",
   "execution_count": null,
   "metadata": {},
   "outputs": [],
   "source": []
  }
 ],
 "metadata": {
  "kernelspec": {
   "display_name": "Python 3",
   "language": "python",
   "name": "python3"
  },
  "language_info": {
   "codemirror_mode": {
    "name": "ipython",
    "version": 3
   },
   "file_extension": ".py",
   "mimetype": "text/x-python",
   "name": "python",
   "nbconvert_exporter": "python",
   "pygments_lexer": "ipython3",
   "version": "3.7.4"
  }
 },
 "nbformat": 4,
 "nbformat_minor": 4
}
