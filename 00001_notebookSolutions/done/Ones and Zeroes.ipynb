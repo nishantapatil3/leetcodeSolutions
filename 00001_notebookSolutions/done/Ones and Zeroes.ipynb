{
 "cells": [
  {
   "cell_type": "code",
   "execution_count": 25,
   "metadata": {},
   "outputs": [],
   "source": [
    "from typing import List\n",
    "\n",
    "class Solution:\n",
    "    def findMaxForm(self, strs: List[str], m: int, n: int) -> int:\n",
    "        dp = [[0 for _ in range(n+1)] for _ in range(m+1)]\n",
    "        for i  in range(len(dp)):\n",
    "            print (dp[i])\n",
    "        \n",
    "        for str in strs:\n",
    "            zeros = str.count(\"0\")\n",
    "            ones = len(str) - zeros\n",
    "            print (zeros, ones)\n",
    "            for i in range(m, zeros-1, -1):\n",
    "                for j in range(n, ones-1, -1):\n",
    "                    dp[i][j] = max(dp[i][j], dp[i-zeros][j-ones] + 1)\n",
    "        \n",
    "        for i  in range(len(dp)):\n",
    "            print (dp[i])\n",
    "        return (dp[m][n])"
   ]
  },
  {
   "cell_type": "code",
   "execution_count": 26,
   "metadata": {},
   "outputs": [
    {
     "name": "stdout",
     "output_type": "stream",
     "text": [
      "[0, 0, 0, 0]\n",
      "[0, 0, 0, 0]\n",
      "[0, 0, 0, 0]\n",
      "[0, 0, 0, 0]\n",
      "[0, 0, 0, 0]\n",
      "[0, 0, 0, 0]\n",
      "1 1\n",
      "3 1\n",
      "2 4\n",
      "0 1\n",
      "1 0\n",
      "[0, 1, 1, 1]\n",
      "[1, 2, 2, 2]\n",
      "[1, 2, 3, 3]\n",
      "[1, 2, 3, 3]\n",
      "[1, 2, 3, 3]\n",
      "[1, 2, 3, 4]\n",
      "4\n"
     ]
    }
   ],
   "source": [
    "arr = [\"10\",\"0001\",\"111001\",\"1\",\"0\"]\n",
    "m = 5\n",
    "n = 3\n",
    "\n",
    "a = Solution()\n",
    "print (a.findMaxForm(arr, m,  n))"
   ]
  },
  {
   "cell_type": "code",
   "execution_count": null,
   "metadata": {},
   "outputs": [],
   "source": []
  }
 ],
 "metadata": {
  "kernelspec": {
   "display_name": "Python 3",
   "language": "python",
   "name": "python3"
  },
  "language_info": {
   "codemirror_mode": {
    "name": "ipython",
    "version": 3
   },
   "file_extension": ".py",
   "mimetype": "text/x-python",
   "name": "python",
   "nbconvert_exporter": "python",
   "pygments_lexer": "ipython3",
   "version": "3.7.4"
  }
 },
 "nbformat": 4,
 "nbformat_minor": 4
}
