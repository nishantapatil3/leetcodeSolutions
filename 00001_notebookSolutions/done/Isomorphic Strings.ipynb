{
 "cells": [
  {
   "cell_type": "code",
   "execution_count": 46,
   "metadata": {},
   "outputs": [],
   "source": [
    "from typing import List\n",
    "\n",
    "class Solution:\n",
    "    def isIsomorphic(self, s: str, t: str) -> bool:\n",
    "        s2t, t2s = {}, {}\n",
    "        for i in range(len(s)):\n",
    "            if s[i] in s2t and s2t[s[i]] != t[i]:\n",
    "                return False\n",
    "            if t[i] in t2s and t2s[t[i]] != s[i]:\n",
    "                return False\n",
    "            s2t[s[i]] = t[i]\n",
    "            t2s[t[i]] = s[i]\n",
    "        print (s2t)\n",
    "        print (t2s)"
   ]
  },
  {
   "cell_type": "code",
   "execution_count": 47,
   "metadata": {},
   "outputs": [
    {
     "name": "stdout",
     "output_type": "stream",
     "text": [
      "False\n"
     ]
    }
   ],
   "source": [
    "s = \"badc\"\n",
    "t = \"baba\"\n",
    "\n",
    "a = Solution()\n",
    "print (a.isIsomorphic(s, t))"
   ]
  },
  {
   "cell_type": "code",
   "execution_count": null,
   "metadata": {},
   "outputs": [],
   "source": []
  }
 ],
 "metadata": {
  "kernelspec": {
   "display_name": "Python 3",
   "language": "python",
   "name": "python3"
  },
  "language_info": {
   "codemirror_mode": {
    "name": "ipython",
    "version": 3
   },
   "file_extension": ".py",
   "mimetype": "text/x-python",
   "name": "python",
   "nbconvert_exporter": "python",
   "pygments_lexer": "ipython3",
   "version": "3.8.8"
  }
 },
 "nbformat": 4,
 "nbformat_minor": 4
}
