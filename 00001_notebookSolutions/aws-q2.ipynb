{
 "cells": [
  {
   "cell_type": "code",
   "execution_count": 1,
   "metadata": {},
   "outputs": [],
   "source": [
    "from typing import List\n",
    "\n",
    "class Solution:\n",
    "    def singleNumber(self, nums: List[int]) -> int:\n",
    "        Input: s = \"tree\"\n",
    "        Input: s1 = \"rtee\"\n",
    "\n",
    "        Output: \"eetr\"\n",
    "        s1 = \"eert\"\n",
    "\n",
    "        s = \"tree\"\n",
    "\n",
    "        def create_hm(s):\n",
    "            h = {}\n",
    "\n",
    "            for c in s:\n",
    "                if c in h:\n",
    "                    h[c] += 1\n",
    "                else:\n",
    "                    h[c] = 1\n",
    "\n",
    "            return h\n",
    "\n",
    "        hm = create_hm(s)\n",
    "\n",
    "        list_kv = hm.items()\n",
    "        print (list_kv)\n",
    "        list_kv = sorted(list_kv, key=lambda x:(x[1], -ord(x[0])), reverse=True)\n",
    "\n",
    "        ret = \"\"\n",
    "        for c,i in list_kv:\n",
    "            for a in range(i):\n",
    "                ret += c\n",
    "\n",
    "        return (ret)"
   ]
  },
  {
   "cell_type": "code",
   "execution_count": 2,
   "metadata": {},
   "outputs": [
    {
     "name": "stdout",
     "output_type": "stream",
     "text": [
      "dict_items([('t', 1), ('r', 1), ('e', 2)])\n",
      "eert\n"
     ]
    }
   ],
   "source": [
    "arr = []\n",
    "\n",
    "a = Solution()\n",
    "print (a.singleNumber(arr))"
   ]
  },
  {
   "cell_type": "code",
   "execution_count": null,
   "metadata": {},
   "outputs": [],
   "source": []
  },
  {
   "cell_type": "code",
   "execution_count": null,
   "metadata": {},
   "outputs": [],
   "source": []
  }
 ],
 "metadata": {
  "kernelspec": {
   "display_name": "Python 3",
   "language": "python",
   "name": "python3"
  },
  "language_info": {
   "codemirror_mode": {
    "name": "ipython",
    "version": 3
   },
   "file_extension": ".py",
   "mimetype": "text/x-python",
   "name": "python",
   "nbconvert_exporter": "python",
   "pygments_lexer": "ipython3",
   "version": "3.8.8"
  }
 },
 "nbformat": 4,
 "nbformat_minor": 4
}
